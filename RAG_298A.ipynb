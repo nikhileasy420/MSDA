{
 "cells": [
  {
   "cell_type": "code",
   "execution_count": 17,
   "id": "1eac8d2b-450b-4b13-b284-3677318db761",
   "metadata": {},
   "outputs": [
    {
     "name": "stdout",
     "output_type": "stream",
     "text": [
      "Requirement already satisfied: pandas in /usr/local/lib/python3.11/dist-packages (2.2.2)\n",
      "Requirement already satisfied: numpy>=1.23.2 in /usr/local/lib/python3.11/dist-packages (from pandas) (1.26.2)\n",
      "Requirement already satisfied: python-dateutil>=2.8.2 in /usr/local/lib/python3.11/dist-packages (from pandas) (2.8.2)\n",
      "Requirement already satisfied: pytz>=2020.1 in /usr/local/lib/python3.11/dist-packages (from pandas) (2024.1)\n",
      "Requirement already satisfied: tzdata>=2022.7 in /usr/local/lib/python3.11/dist-packages (from pandas) (2024.1)\n",
      "Requirement already satisfied: six>=1.5 in /usr/lib/python3/dist-packages (from python-dateutil>=2.8.2->pandas) (1.16.0)\n",
      "\u001b[33mWARNING: Running pip as the 'root' user can result in broken permissions and conflicting behaviour with the system package manager. It is recommended to use a virtual environment instead: https://pip.pypa.io/warnings/venv\u001b[0m\u001b[33m\n",
      "\u001b[0m\n",
      "\u001b[1m[\u001b[0m\u001b[34;49mnotice\u001b[0m\u001b[1;39;49m]\u001b[0m\u001b[39;49m A new release of pip is available: \u001b[0m\u001b[31;49m23.3.1\u001b[0m\u001b[39;49m -> \u001b[0m\u001b[32;49m24.0\u001b[0m\n",
      "\u001b[1m[\u001b[0m\u001b[34;49mnotice\u001b[0m\u001b[1;39;49m]\u001b[0m\u001b[39;49m To update, run: \u001b[0m\u001b[32;49mpython3 -m pip install --upgrade pip\u001b[0m\n",
      "Collecting reportlab\n",
      "  Downloading reportlab-4.2.0-py3-none-any.whl.metadata (1.4 kB)\n",
      "Requirement already satisfied: pillow>=9.0.0 in /usr/local/lib/python3.11/dist-packages (from reportlab) (10.1.0)\n",
      "Collecting chardet (from reportlab)\n",
      "  Downloading chardet-5.2.0-py3-none-any.whl.metadata (3.4 kB)\n",
      "Downloading reportlab-4.2.0-py3-none-any.whl (1.9 MB)\n",
      "\u001b[2K   \u001b[90m━━━━━━━━━━━━━━━━━━━━━━━━━━━━━━━━━━━━━━━━\u001b[0m \u001b[32m1.9/1.9 MB\u001b[0m \u001b[31m28.6 MB/s\u001b[0m eta \u001b[36m0:00:00\u001b[0ma \u001b[36m0:00:01\u001b[0m\n",
      "\u001b[?25hDownloading chardet-5.2.0-py3-none-any.whl (199 kB)\n",
      "\u001b[2K   \u001b[90m━━━━━━━━━━━━━━━━━━━━━━━━━━━━━━━━━━━━━━━━\u001b[0m \u001b[32m199.4/199.4 kB\u001b[0m \u001b[31m39.1 MB/s\u001b[0m eta \u001b[36m0:00:00\u001b[0m\n",
      "\u001b[?25hInstalling collected packages: chardet, reportlab\n",
      "Successfully installed chardet-5.2.0 reportlab-4.2.0\n",
      "\u001b[33mWARNING: Running pip as the 'root' user can result in broken permissions and conflicting behaviour with the system package manager. It is recommended to use a virtual environment instead: https://pip.pypa.io/warnings/venv\u001b[0m\u001b[33m\n",
      "\u001b[0m\n",
      "\u001b[1m[\u001b[0m\u001b[34;49mnotice\u001b[0m\u001b[1;39;49m]\u001b[0m\u001b[39;49m A new release of pip is available: \u001b[0m\u001b[31;49m23.3.1\u001b[0m\u001b[39;49m -> \u001b[0m\u001b[32;49m24.0\u001b[0m\n",
      "\u001b[1m[\u001b[0m\u001b[34;49mnotice\u001b[0m\u001b[1;39;49m]\u001b[0m\u001b[39;49m To update, run: \u001b[0m\u001b[32;49mpython3 -m pip install --upgrade pip\u001b[0m\n"
     ]
    }
   ],
   "source": [
    "!pip install pandas\n",
    "!pip install reportlab"
   ]
  },
  {
   "cell_type": "code",
   "execution_count": 3,
   "id": "4589a7d9",
   "metadata": {},
   "outputs": [],
   "source": [
    "import pandas as pd\n",
    "\n",
    "file_path = r\"Article_data.csv\"\n",
    "df = pd.read_csv(file_path);"
   ]
  },
  {
   "cell_type": "code",
   "execution_count": 4,
   "id": "9577598f",
   "metadata": {},
   "outputs": [
    {
     "name": "stdout",
     "output_type": "stream",
     "text": [
      "<class 'pandas.core.frame.DataFrame'>\n",
      "RangeIndex: 536750 entries, 0 to 536749\n",
      "Data columns (total 8 columns):\n",
      " #   Column          Non-Null Count   Dtype \n",
      "---  ------          --------------   ----- \n",
      " 0   article_id      536750 non-null  object\n",
      " 1   newspaper_name  536750 non-null  object\n",
      " 2   edition         536750 non-null  int64 \n",
      " 3   date            536750 non-null  object\n",
      " 4   page            536750 non-null  object\n",
      " 5   headline        327755 non-null  object\n",
      " 6   byline          8766 non-null    object\n",
      " 7   article         536750 non-null  object\n",
      "dtypes: int64(1), object(7)\n",
      "memory usage: 32.8+ MB\n"
     ]
    }
   ],
   "source": [
    "df.info()"
   ]
  },
  {
   "cell_type": "code",
   "execution_count": 20,
   "id": "7071c773-e98e-46e4-a111-751e4fc2874e",
   "metadata": {},
   "outputs": [
    {
     "data": {
      "text/html": [
       "<div>\n",
       "<style scoped>\n",
       "    .dataframe tbody tr th:only-of-type {\n",
       "        vertical-align: middle;\n",
       "    }\n",
       "\n",
       "    .dataframe tbody tr th {\n",
       "        vertical-align: top;\n",
       "    }\n",
       "\n",
       "    .dataframe thead th {\n",
       "        text-align: right;\n",
       "    }\n",
       "</style>\n",
       "<table border=\"1\" class=\"dataframe\">\n",
       "  <thead>\n",
       "    <tr style=\"text-align: right;\">\n",
       "      <th></th>\n",
       "      <th>newspaper_name</th>\n",
       "      <th>date</th>\n",
       "      <th>page</th>\n",
       "      <th>article</th>\n",
       "    </tr>\n",
       "  </thead>\n",
       "  <tbody>\n",
       "    <tr>\n",
       "      <th>0</th>\n",
       "      <td>The Florida agriculturist.</td>\n",
       "      <td>1889-06-05</td>\n",
       "      <td>p13</td>\n",
       "      <td>general horace porter says that when he was in...</td>\n",
       "    </tr>\n",
       "    <tr>\n",
       "      <th>1</th>\n",
       "      <td>The Florida agriculturist.</td>\n",
       "      <td>1889-06-05</td>\n",
       "      <td>p13</td>\n",
       "      <td>news notes and comments from the fountain city...</td>\n",
       "    </tr>\n",
       "    <tr>\n",
       "      <th>2</th>\n",
       "      <td>The Florida agriculturist.</td>\n",
       "      <td>1889-06-05</td>\n",
       "      <td>p13</td>\n",
       "      <td>a prisoner in the sanford jail muir ders a dep...</td>\n",
       "    </tr>\n",
       "    <tr>\n",
       "      <th>3</th>\n",
       "      <td>The Florida agriculturist.</td>\n",
       "      <td>1889-06-05</td>\n",
       "      <td>p13</td>\n",
       "      <td>did at it's june meeting. the county school bo...</td>\n",
       "    </tr>\n",
       "    <tr>\n",
       "      <th>4</th>\n",
       "      <td>The Florida agriculturist.</td>\n",
       "      <td>1889-06-05</td>\n",
       "      <td>p13</td>\n",
       "      <td>were misses boacn ana falm0t anu messrs. colby...</td>\n",
       "    </tr>\n",
       "  </tbody>\n",
       "</table>\n",
       "</div>"
      ],
      "text/plain": [
       "               newspaper_name        date page  \\\n",
       "0  The Florida agriculturist.  1889-06-05  p13   \n",
       "1  The Florida agriculturist.  1889-06-05  p13   \n",
       "2  The Florida agriculturist.  1889-06-05  p13   \n",
       "3  The Florida agriculturist.  1889-06-05  p13   \n",
       "4  The Florida agriculturist.  1889-06-05  p13   \n",
       "\n",
       "                                             article  \n",
       "0  general horace porter says that when he was in...  \n",
       "1  news notes and comments from the fountain city...  \n",
       "2  a prisoner in the sanford jail muir ders a dep...  \n",
       "3  did at it's june meeting. the county school bo...  \n",
       "4  were misses boacn ana falm0t anu messrs. colby...  "
      ]
     },
     "execution_count": 20,
     "metadata": {},
     "output_type": "execute_result"
    }
   ],
   "source": [
    "df.head()"
   ]
  },
  {
   "cell_type": "code",
   "execution_count": 5,
   "id": "2059241f",
   "metadata": {},
   "outputs": [],
   "source": [
    "df.drop(columns=['byline', 'edition','headline'], inplace=True)"
   ]
  },
  {
   "cell_type": "code",
   "execution_count": 6,
   "id": "dbe22572",
   "metadata": {},
   "outputs": [
    {
     "data": {
      "text/html": [
       "<div>\n",
       "<style scoped>\n",
       "    .dataframe tbody tr th:only-of-type {\n",
       "        vertical-align: middle;\n",
       "    }\n",
       "\n",
       "    .dataframe tbody tr th {\n",
       "        vertical-align: top;\n",
       "    }\n",
       "\n",
       "    .dataframe thead th {\n",
       "        text-align: right;\n",
       "    }\n",
       "</style>\n",
       "<table border=\"1\" class=\"dataframe\">\n",
       "  <thead>\n",
       "    <tr style=\"text-align: right;\">\n",
       "      <th></th>\n",
       "      <th>article_id</th>\n",
       "      <th>newspaper_name</th>\n",
       "      <th>date</th>\n",
       "      <th>page</th>\n",
       "      <th>article</th>\n",
       "    </tr>\n",
       "  </thead>\n",
       "  <tbody>\n",
       "    <tr>\n",
       "      <th>count</th>\n",
       "      <td>536750</td>\n",
       "      <td>536750</td>\n",
       "      <td>536750</td>\n",
       "      <td>536750</td>\n",
       "      <td>536750</td>\n",
       "    </tr>\n",
       "    <tr>\n",
       "      <th>unique</th>\n",
       "      <td>536750</td>\n",
       "      <td>165</td>\n",
       "      <td>365</td>\n",
       "      <td>123</td>\n",
       "      <td>531104</td>\n",
       "    </tr>\n",
       "    <tr>\n",
       "      <th>top</th>\n",
       "      <td>42_1889-02-23_p4_sn84025834_00220720366_188902...</td>\n",
       "      <td>Los Angeles daily herald.</td>\n",
       "      <td>1889-12-21</td>\n",
       "      <td>p2</td>\n",
       "      <td>Children Cry for Pitchers Castoria.</td>\n",
       "    </tr>\n",
       "    <tr>\n",
       "      <th>freq</th>\n",
       "      <td>1</td>\n",
       "      <td>65640</td>\n",
       "      <td>3127</td>\n",
       "      <td>99303</td>\n",
       "      <td>64</td>\n",
       "    </tr>\n",
       "  </tbody>\n",
       "</table>\n",
       "</div>"
      ],
      "text/plain": [
       "                                               article_id  \\\n",
       "count                                              536750   \n",
       "unique                                             536750   \n",
       "top     42_1889-02-23_p4_sn84025834_00220720366_188902...   \n",
       "freq                                                    1   \n",
       "\n",
       "                   newspaper_name        date    page  \\\n",
       "count                      536750      536750  536750   \n",
       "unique                        165         365     123   \n",
       "top     Los Angeles daily herald.  1889-12-21      p2   \n",
       "freq                        65640        3127   99303   \n",
       "\n",
       "                                    article  \n",
       "count                                536750  \n",
       "unique                               531104  \n",
       "top     Children Cry for Pitchers Castoria.  \n",
       "freq                                     64  "
      ]
     },
     "execution_count": 6,
     "metadata": {},
     "output_type": "execute_result"
    }
   ],
   "source": [
    "df.describe()"
   ]
  },
  {
   "cell_type": "code",
   "execution_count": 11,
   "id": "2b27a773",
   "metadata": {},
   "outputs": [],
   "source": [
    "\n",
    "import re\n",
    "\n",
    "def clean_text(text):\n",
    "    # Remove all characters except letters, numbers, and specified punctuation\n",
    "    text = re.sub(r'[^a-zA-Z0-9,.!?;:()\\'\\\"]', ' ', text)\n",
    "\n",
    "    # Replace newline, carriage return, and tab characters with a space\n",
    "    text = re.sub(r'[\\n\\r\\t]', ' ', text)\n",
    "\n",
    "    # Replace multiple spaces with a single space\n",
    "    text = re.sub(' +', ' ', text)\n",
    "\n",
    "    # Convert text to lower case\n",
    "    text = text.lower()\n",
    "\n",
    "    # Normalize white space\n",
    "    text = re.sub(r'\\s+', ' ', text)\n",
    "\n",
    "    # Replace non-standard punctuation with standard ones\n",
    "    text = re.sub(r'[“”]', '\"', text)\n",
    "    text = re.sub(r\"[‘’]\", \"'\", text)\n",
    "\n",
    "    # Remove excessive punctuation\n",
    "    text = re.sub(r'\\.{2,}', '.', text)\n",
    "\n",
    "    # Remove any remaining non-ASCII characters (optional)\n",
    "    text = re.sub(r'[^\\x00-\\x7F]+', '', text)\n",
    "\n",
    "    # Sentence boundary correction\n",
    "    text = re.sub(r'(?<=[.!?])\\s+(?=[A-Z])', ' ', text)\n",
    "\n",
    "    return text.strip()\n",
    "\n",
    "# Assuming df is your DataFrame containing an 'article' column\n",
    "df['article'] = df['article'].apply(clean_text)\n",
    "\n",
    "# Filter the DataFrame to only include rows where the cleaned article has 200 or more characters\n",
    "df = df[df['article'].str.len() >= 200]\n"
   ]
  },
  {
   "cell_type": "code",
   "execution_count": null,
   "id": "b4787ab4-70f7-44c4-a2f7-16cac7ecdee3",
   "metadata": {},
   "outputs": [],
   "source": []
  },
  {
   "cell_type": "code",
   "execution_count": 13,
   "id": "22d44466",
   "metadata": {},
   "outputs": [],
   "source": [
    "df.drop(columns=['cleaned_article', 'article_id'], inplace=True)"
   ]
  },
  {
   "cell_type": "code",
   "execution_count": 14,
   "id": "88eba5d8",
   "metadata": {},
   "outputs": [
    {
     "name": "stderr",
     "output_type": "stream",
     "text": [
      "/usr/local/lib/python3.11/dist-packages/numpy/core/fromnumeric.py:59: FutureWarning: 'DataFrame.swapaxes' is deprecated and will be removed in a future version. Please use 'DataFrame.transpose' instead.\n",
      "  return bound(*args, **kwds)\n"
     ]
    }
   ],
   "source": [
    "import pandas as pd\n",
    "import numpy as np\n",
    "\n",
    "# Assuming 'data' is your DataFrame\n",
    "def chunk_dataframe(data, chunk_size):\n",
    "    num_chunks = len(data) // chunk_size + (1 if len(data) % chunk_size else 0)\n",
    "    return np.array_split(data, num_chunks)\n",
    "\n",
    "# Usage\n",
    "chunk_size = 100000\n",
    "chunks = chunk_dataframe(df, chunk_size)\n"
   ]
  },
  {
   "cell_type": "code",
   "execution_count": 18,
   "id": "e7be212a",
   "metadata": {},
   "outputs": [],
   "source": [
    "from reportlab.lib.pagesizes import letter\n",
    "from reportlab.pdfgen import canvas\n",
    "\n",
    "def create_pdf(chunk, chunk_index):\n",
    "    filename = f\"articles_chunk_{chunk_index}.pdf\"\n",
    "    c = canvas.Canvas(filename, pagesize=letter)\n",
    "    width, height = letter\n",
    "    \n",
    "    y_position = height - 50  # Start 40 pixels down from the top\n",
    "    line_height = 14  # Height of each line\n",
    "\n",
    "    for index, row in chunk.iterrows():\n",
    "        for column in chunk.columns:\n",
    "            text = f\"{column}: {row[column]}\"\n",
    "            c.drawString(40, y_position, text)\n",
    "            y_position -= line_height  # Move down for the next line\n",
    "        \n",
    "        # Add a space between articles\n",
    "        y_position -= 10\n",
    "\n",
    "        # Check if we're near the bottom of the page\n",
    "        if y_position < 40:\n",
    "            c.showPage()\n",
    "            y_position = height - 50  # Reset y position\n",
    "\n",
    "    c.save()\n",
    "\n",
    "# Example usage\n",
    "for i, chunk in enumerate(chunks):\n",
    "    create_pdf(chunk, i)\n"
   ]
  },
  {
   "cell_type": "code",
   "execution_count": null,
   "id": "a41923d1",
   "metadata": {},
   "outputs": [],
   "source": []
  }
 ],
 "metadata": {
  "kernelspec": {
   "display_name": "Python 3 (ipykernel)",
   "language": "python",
   "name": "python3"
  },
  "language_info": {
   "codemirror_mode": {
    "name": "ipython",
    "version": 3
   },
   "file_extension": ".py",
   "mimetype": "text/x-python",
   "name": "python",
   "nbconvert_exporter": "python",
   "pygments_lexer": "ipython3",
   "version": "3.11.0rc1"
  }
 },
 "nbformat": 4,
 "nbformat_minor": 5
}
