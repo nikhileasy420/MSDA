{
 "cells": [
  {
   "cell_type": "code",
   "execution_count": 1,
   "id": "de2a1b5e",
   "metadata": {},
   "outputs": [
    {
     "data": {
      "image/png": "[encoded data removed]",
      "text/plain": [
       "<Figure size 432x288 with 1 Axes>"
      ]
     },
     "metadata": {
      "needs_background": "light"
     },
     "output_type": "display_data"
    }
   ],
   "source": [
    "#Top 10 stations that experienced the largest drop in ridership from 2018 to 2020\n",
    "\n",
    "import pymongo\n",
    "import matplotlib.pyplot as plt\n",
    "\n",
    "# MongoDB connection\n",
    "client = pymongo.MongoClient(\"mongodb://localhost:27017/\")\n",
    "db = client[\"ridership\"]\n",
    "col = db[\"2018\"]\n",
    "\n",
    "# Aggregation pipeline\n",
    "pipeline = [\n",
    "    {\n",
    "        \"$group\": {\n",
    "            \"_id\": \"$Origin Station\",\n",
    "            \"totalTrips2018\": { \"$sum\": \"$Trip Count\" }\n",
    "        }\n",
    "    },\n",
    "    {\n",
    "        \"$lookup\": {\n",
    "            \"from\": \"2019\",\n",
    "            \"localField\": \"_id\",\n",
    "            \"foreignField\": \"Origin Station\",\n",
    "            \"as\": \"data2019\"\n",
    "        }\n",
    "    },\n",
    "    {\n",
    "        \"$lookup\": {\n",
    "            \"from\": \"2020\",\n",
    "            \"localField\": \"_id\",\n",
    "            \"foreignField\": \"Origin Station\",\n",
    "            \"as\": \"data2020\"\n",
    "        }\n",
    "    },\n",
    "    {\n",
    "        \"$project\": {\n",
    "            \"_id\": 1,\n",
    "            \"totalTrips2018\": 1,\n",
    "            \"totalTrips2019\": { \"$sum\": \"$data2019.Trip Count\" },\n",
    "            \"totalTrips2020\": { \"$sum\": \"$data2020.Trip Count\" }\n",
    "        }\n",
    "    },\n",
    "    {\n",
    "        \"$project\": {\n",
    "            \"_id\": 1,\n",
    "            \"diff2018_2019\": { \"$subtract\": [\"$totalTrips2018\", \"$totalTrips2019\"] },\n",
    "            \"diff2019_2020\": { \"$subtract\": [\"$totalTrips2019\", \"$totalTrips2020\"] }\n",
    "        }\n",
    "    },\n",
    "    {\n",
    "        \"$sort\": { \"diff2018_2019\": -1, \"diff2019_2020\": -1 }\n",
    "    },\n",
    "    {\n",
    "        \"$limit\": 10\n",
    "    }\n",
    "]\n",
    "\n",
    "# Execute the pipeline and store the results in a list\n",
    "results = list(col.aggregate(pipeline))\n",
    "\n",
    "# Extract the data from the results list\n",
    "stations = [r[\"_id\"] for r in results]\n",
    "diff2018_2019 = [r[\"diff2018_2019\"] for r in results]\n",
    "diff2019_2020 = [r[\"diff2019_2020\"] for r in results]\n",
    "\n",
    "# Create a stacked bar chart of the differences in total trips\n",
    "plt.bar(stations, diff2018_2019, label=\"2018-2019\")\n",
    "plt.bar(stations, diff2019_2020, label=\"2019-2020\", bottom=diff2018_2019)\n",
    "plt.xlabel(\"Origin Station\")\n",
    "plt.ylabel(\"Difference in Total Trips\")\n",
    "plt.title(\"Difference in Total Trips by Origin Station\")\n",
    "plt.legend()\n",
    "plt.show()"
   ]
  },
  {
   "cell_type": "code",
   "execution_count": null,
   "id": "9d58f54e",
   "metadata": {},
   "outputs": [],
   "source": []
  }
 ],
 "metadata": {
  "kernelspec": {
   "display_name": "Python 3",
   "language": "python",
   "name": "python3"
  },
  "language_info": {
   "codemirror_mode": {
    "name": "ipython",
    "version": 3
   },
   "file_extension": ".py",
   "mimetype": "text/x-python",
   "name": "python",
   "nbconvert_exporter": "python",
   "pygments_lexer": "ipython3",
   "version": "3.8.8"
  }
 },
 "nbformat": 4,
 "nbformat_minor": 5
}
