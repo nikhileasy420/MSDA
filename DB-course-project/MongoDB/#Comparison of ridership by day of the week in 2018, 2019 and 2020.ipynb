{
 "cells": [
  {
   "cell_type": "code",
   "execution_count": 4,
   "id": "aaa06d7e",
   "metadata": {},
   "outputs": [
    {
     "data": {
      "image/png": "[encoded data removed]",
      "text/plain": [
       "<Figure size 432x288 with 1 Axes>"
      ]
     },
     "metadata": {
      "needs_background": "light"
     },
     "output_type": "display_data"
    }
   ],
   "source": [
    "#Comparison of ridership by day of the week in 2018, 2019 and 2020\n",
    "\n",
    "import pymongo\n",
    "import matplotlib.pyplot as plt\n",
    "\n",
    "# MongoDB connection\n",
    "client = pymongo.MongoClient(\"mongodb://localhost:27017/\")\n",
    "db = client[\"ridership\"]\n",
    "col = db[\"2018\"]\n",
    "\n",
    "# Aggregation pipeline\n",
    "pipeline = [\n",
    "    {\n",
    "        \"$addFields\": {\n",
    "            \"date\": {\"$toDate\": \"$Date\"}\n",
    "        }\n",
    "    },\n",
    "    {\n",
    "        \"$group\": {\n",
    "            \"_id\": {\"$dayOfWeek\": \"$date\"},\n",
    "            \"totalTrips\": {\"$sum\": \"$Trip Count\"}\n",
    "        }\n",
    "    },\n",
    "    {\"$sort\": {\"_id\": 1}}\n",
    "]\n",
    "\n",
    "# Execute the pipeline and store the results in a list\n",
    "results = list(col.aggregate(pipeline))\n",
    "\n",
    "# Extract the data from the results list\n",
    "days = [r[\"_id\"] for r in results]\n",
    "total_trips = [r[\"totalTrips\"] for r in results]\n",
    "\n",
    "# Create a line chart of the total trips per day of week\n",
    "plt.bar(days, total_trips)\n",
    "plt.xlabel(\"Day of Week\")\n",
    "plt.ylabel(\"Total Trips\")\n",
    "plt.title(\"Total Trips per Day of Week 2018\")\n",
    "\n",
    "# Define the colors for the bars\n",
    "colors = ['green']\n",
    "\n",
    "# Create a bar chart with different colors for each bar\n",
    "plt.bar(days, total_trips, color=colors)\n",
    "\n",
    "\n",
    "# Change the x-axis labels\n",
    "plt.xticks(range(1, 8), [\"Mon\", \"Tue\", \"Wed\", \"Thu\", \"Fri\", \"Sat\", \"Sun\"])\n",
    "\n",
    "plt.show()"
   ]
  },
  {
   "cell_type": "code",
   "execution_count": 2,
   "id": "4207c591",
   "metadata": {},
   "outputs": [
    {
     "data": {
      "image/png": "[encoded data removed]",
      "text/plain": [
       "<Figure size 432x288 with 1 Axes>"
      ]
     },
     "metadata": {
      "needs_background": "light"
     },
     "output_type": "display_data"
    }
   ],
   "source": [
    "#Comparison of ridership by day of the week in 2018, 2019 and 2020\n",
    "\n",
    "import pymongo\n",
    "import matplotlib.pyplot as plt\n",
    "\n",
    "# MongoDB connection\n",
    "client = pymongo.MongoClient(\"mongodb://localhost:27017/\")\n",
    "db = client[\"ridership\"]\n",
    "col = db[\"2019\"]\n",
    "\n",
    "# Aggregation pipeline\n",
    "pipeline = [\n",
    "    {\n",
    "        \"$addFields\": {\n",
    "            \"date\": {\"$toDate\": \"$Date\"}\n",
    "        }\n",
    "    },\n",
    "    {\n",
    "        \"$group\": {\n",
    "            \"_id\": {\"$dayOfWeek\": \"$date\"},\n",
    "            \"totalTrips\": {\"$sum\": \"$Trip Count\"}\n",
    "        }\n",
    "    },\n",
    "    {\"$sort\": {\"_id\": 1}}\n",
    "]\n",
    "\n",
    "# Execute the pipeline and store the results in a list\n",
    "results = list(col.aggregate(pipeline))\n",
    "\n",
    "# Extract the data from the results list\n",
    "days = [r[\"_id\"] for r in results]\n",
    "total_trips = [r[\"totalTrips\"] for r in results]\n",
    "\n",
    "# Create a line chart of the total trips per day of week\n",
    "plt.bar(days, total_trips)\n",
    "plt.xlabel(\"Day of Week\")\n",
    "plt.ylabel(\"Total Trips\")\n",
    "plt.title(\"Total Trips per Day of Week 2019\")\n",
    "\n",
    "# Define the colors for the bars\n",
    "colors = ['orange']\n",
    "\n",
    "# Create a bar chart with different colors for each bar\n",
    "plt.bar(days, total_trips, color=colors)\n",
    "\n",
    "\n",
    "# Change the x-axis labels\n",
    "plt.xticks(range(1, 8), [\"Mon\", \"Tue\", \"Wed\", \"Thu\", \"Fri\", \"Sat\", \"Sun\"])\n",
    "\n",
    "plt.show()\n",
    "\n"
   ]
  },
  {
   "cell_type": "code",
   "execution_count": 1,
   "id": "728b5119",
   "metadata": {},
   "outputs": [
    {
     "data": {
      "image/png": "[encoded data removed]",
      "text/plain": [
       "<Figure size 432x288 with 1 Axes>"
      ]
     },
     "metadata": {
      "needs_background": "light"
     },
     "output_type": "display_data"
    }
   ],
   "source": [
    "#Comparison of ridership by day of the week in 2018, 2019 and 2020\n",
    "\n",
    "import pymongo\n",
    "import matplotlib.pyplot as plt\n",
    "\n",
    "# MongoDB connection\n",
    "client = pymongo.MongoClient(\"mongodb://localhost:27017/\")\n",
    "db = client[\"ridership\"]\n",
    "col = db[\"2020\"]\n",
    "\n",
    "# Aggregation pipeline\n",
    "pipeline = [\n",
    "    {\n",
    "        \"$addFields\": {\n",
    "            \"date\": {\"$toDate\": \"$Date\"}\n",
    "        }\n",
    "    },\n",
    "    {\n",
    "        \"$group\": {\n",
    "            \"_id\": {\"$dayOfWeek\": \"$date\"},\n",
    "            \"totalTrips\": {\"$sum\": \"$Trip Count\"}\n",
    "        }\n",
    "    },\n",
    "    {\"$sort\": {\"_id\": 1}}\n",
    "]\n",
    "\n",
    "# Execute the pipeline and store the results in a list\n",
    "results = list(col.aggregate(pipeline))\n",
    "\n",
    "# Extract the data from the results list\n",
    "days = [r[\"_id\"] for r in results]\n",
    "total_trips = [r[\"totalTrips\"] for r in results]\n",
    "\n",
    "# Create a line chart of the total trips per day of week\n",
    "plt.bar(days, total_trips)\n",
    "plt.xlabel(\"Day of Week\")\n",
    "plt.ylabel(\"Total Trips\")\n",
    "plt.title(\"Total Trips per Day of Week 2020\")\n",
    "\n",
    "# Define the colors for the bars\n",
    "colors = ['purple']\n",
    "\n",
    "# Create a bar chart with different colors for each bar\n",
    "plt.bar(days, total_trips, color=colors)\n",
    "\n",
    "\n",
    "# Change the x-axis labels\n",
    "plt.xticks(range(1, 8), [\"Mon\", \"Tue\", \"Wed\", \"Thu\", \"Fri\", \"Sat\", \"Sun\"])\n",
    "\n",
    "plt.show()"
   ]
  },
  {
   "cell_type": "code",
   "execution_count": null,
   "id": "a34b0cc3",
   "metadata": {},
   "outputs": [],
   "source": []
  }
 ],
 "metadata": {
  "kernelspec": {
   "display_name": "Python 3",
   "language": "python",
   "name": "python3"
  },
  "language_info": {
   "codemirror_mode": {
    "name": "ipython",
    "version": 3
   },
   "file_extension": ".py",
   "mimetype": "text/x-python",
   "name": "python",
   "nbconvert_exporter": "python",
   "pygments_lexer": "ipython3",
   "version": "3.8.8"
  }
 },
 "nbformat": 4,
 "nbformat_minor": 5
}
