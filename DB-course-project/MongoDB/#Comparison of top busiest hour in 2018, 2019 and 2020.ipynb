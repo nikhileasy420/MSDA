{
 "cells": [
  {
   "cell_type": "code",
   "execution_count": 1,
   "id": "dd040364",
   "metadata": {},
   "outputs": [
    {
     "data": {
      "image/png": "[encoded data removed]",
      "text/plain": [
       "<Figure size 432x288 with 1 Axes>"
      ]
     },
     "metadata": {
      "needs_background": "light"
     },
     "output_type": "display_data"
    }
   ],
   "source": [
    "#Comparison of top busiest hour in 2018, 2019 and 2020:\n",
    "\n",
    "import pymongo\n",
    "import matplotlib.pyplot as plt\n",
    "\n",
    "# Connect to MongoDB and select the database and collection\n",
    "client = pymongo.MongoClient(\"mongodb://localhost:27017/\")\n",
    "db = client[\"ridership\"]\n",
    "col_2018 = db[\"2018\"]\n",
    "col_2019 = db[\"2019\"]\n",
    "col_2020 = db[\"2020\"]\n",
    "\n",
    "# Aggregate data to find top busiest hours for each year\n",
    "cursor_2018 = col_2018.aggregate([\n",
    "  {\n",
    "    \"$group\": {\n",
    "      \"_id\": \"$Hour\",\n",
    "      \"totalTrips\": { \"$sum\": \"$Trip Count\" }\n",
    "    }\n",
    "  },\n",
    "  {\n",
    "    \"$sort\": { \"totalTrips\": -1 }\n",
    "  },\n",
    "  {\n",
    "    \"$limit\": 5\n",
    "  }\n",
    "])\n",
    "\n",
    "cursor_2019 = col_2019.aggregate([\n",
    "  {\n",
    "    \"$group\": {\n",
    "      \"_id\": \"$Hour\",\n",
    "      \"totalTrips\": { \"$sum\": \"$Trip Count\" }\n",
    "    }\n",
    "  },\n",
    "  {\n",
    "    \"$sort\": { \"totalTrips\": -1 }\n",
    "  },\n",
    "  {\n",
    "    \"$limit\": 5\n",
    "  }\n",
    "])\n",
    "\n",
    "cursor_2020 = col_2020.aggregate([\n",
    "  {\n",
    "    \"$group\": {\n",
    "      \"_id\": \"$Hour\",\n",
    "      \"totalTrips\": { \"$sum\": \"$Trip Count\" }\n",
    "    }\n",
    "  },\n",
    "  {\n",
    "    \"$sort\": { \"totalTrips\": -1 }\n",
    "  },\n",
    "  {\n",
    "    \"$limit\": 5\n",
    "  }\n",
    "])\n",
    "\n",
    "# Create empty lists for storing data\n",
    "hours = []\n",
    "trips_2018 = []\n",
    "trips_2019 = []\n",
    "trips_2020 = []\n",
    "\n",
    "# Iterate through cursor and append data to lists for each year\n",
    "for doc in cursor_2018:\n",
    "    hours.append(doc['_id'])\n",
    "    trips_2018.append(doc['totalTrips'])\n",
    "\n",
    "for doc in cursor_2019:\n",
    "    trips_2019.append(doc['totalTrips'])\n",
    "\n",
    "for doc in cursor_2020:\n",
    "    trips_2020.append(doc['totalTrips'])\n",
    "\n",
    "# Create stacked bar chart\n",
    "plt.bar(hours, trips_2018, color='green', label='2018')\n",
    "plt.bar(hours, trips_2019, bottom=trips_2018, color='orange', label='2019')\n",
    "plt.bar(hours, trips_2020, bottom=[sum(x) for x in zip(trips_2018, trips_2019)], color='purple', label='2020')\n",
    "\n",
    "# Add axis labels and title\n",
    "plt.xlabel('Hour')\n",
    "plt.ylabel('Number of Trips')\n",
    "plt.title('Top 5 Busiest Hours by Year')\n",
    "\n",
    "# Add legend\n",
    "plt.legend(loc='upper center')\n",
    "\n",
    "# Display plot\n",
    "plt.show()\n"
   ]
  },
  {
   "cell_type": "code",
   "execution_count": null,
   "id": "e2d4c7e3",
   "metadata": {},
   "outputs": [],
   "source": []
  }
 ],
 "metadata": {
  "kernelspec": {
   "display_name": "Python 3",
   "language": "python",
   "name": "python3"
  },
  "language_info": {
   "codemirror_mode": {
    "name": "ipython",
    "version": 3
   },
   "file_extension": ".py",
   "mimetype": "text/x-python",
   "name": "python",
   "nbconvert_exporter": "python",
   "pygments_lexer": "ipython3",
   "version": "3.8.8"
  }
 },
 "nbformat": 4,
 "nbformat_minor": 5
}
