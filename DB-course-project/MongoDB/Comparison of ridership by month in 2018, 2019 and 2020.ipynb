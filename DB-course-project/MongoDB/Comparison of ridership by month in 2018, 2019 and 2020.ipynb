{
 "cells": [
  {
   "cell_type": "code",
   "execution_count": 1,
   "id": "a25eaff4",
   "metadata": {},
   "outputs": [
    {
     "data": {
      "image/png": "[encoded data removed]",
      "text/plain": [
       "<Figure size 432x288 with 1 Axes>"
      ]
     },
     "metadata": {
      "needs_background": "light"
     },
     "output_type": "display_data"
    }
   ],
   "source": [
    "#3 Comparison of ridership by month in 2018, 2019 and 2020\n",
    "\n",
    "\n",
    "import pymongo\n",
    "import matplotlib.pyplot as plt\n",
    "\n",
    "# MongoDB connection\n",
    "client = pymongo.MongoClient(\"mongodb://localhost:27017/\")\n",
    "db = client[\"ridership\"]\n",
    "col = db[\"2018\"]\n",
    "\n",
    "# Aggregation pipeline\n",
    "pipeline = [\n",
    "    {\n",
    "        \"$group\": {\n",
    "            \"_id\": {\"$month\": {\"$toDate\": \"$Date\"}},\n",
    "            \"totalTrips\": {\"$sum\": \"$Trip Count\"}\n",
    "        }\n",
    "    },\n",
    "    {\"$sort\": {\"_id\": 1}}\n",
    "]\n",
    "\n",
    "# Execute the pipeline and store the results in a list\n",
    "results = list(col.aggregate(pipeline))\n",
    "\n",
    "# Extract the data from the results list\n",
    "months = [r[\"_id\"] for r in results]\n",
    "total_trips = [r[\"totalTrips\"] for r in results]\n",
    "\n",
    "colors = ['green']\n",
    "\n",
    "# Create a bar chart of the total trips per month\n",
    "plt.bar(months, total_trips, color=colors)\n",
    "plt.xlabel(\"Month\")\n",
    "plt.ylabel(\"Total Trips\")\n",
    "plt.title(\"Total Trips per Month 2018\")\n",
    "plt.show()"
   ]
  },
  {
   "cell_type": "code",
   "execution_count": 4,
   "id": "5fbfd190",
   "metadata": {},
   "outputs": [
    {
     "data": {
      "image/png": "[encoded data removed]",
      "text/plain": [
       "<Figure size 432x288 with 1 Axes>"
      ]
     },
     "metadata": {
      "needs_background": "light"
     },
     "output_type": "display_data"
    }
   ],
   "source": [
    "#3 Comparison of ridership by month in 2018, 2019 and 2020\n",
    "\n",
    "\n",
    "import pymongo\n",
    "import matplotlib.pyplot as plt\n",
    "\n",
    "# MongoDB connection\n",
    "client = pymongo.MongoClient(\"mongodb://localhost:27017/\")\n",
    "db = client[\"ridership\"]\n",
    "col = db[\"2019\"]\n",
    "\n",
    "# Aggregation pipeline\n",
    "pipeline = [\n",
    "    {\n",
    "        \"$group\": {\n",
    "            \"_id\": {\"$month\": {\"$toDate\": \"$Date\"}},\n",
    "            \"totalTrips\": {\"$sum\": \"$Trip Count\"}\n",
    "        }\n",
    "    },\n",
    "    {\"$sort\": {\"_id\": 1}}\n",
    "]\n",
    "\n",
    "# Execute the pipeline and store the results in a list\n",
    "results = list(col.aggregate(pipeline))\n",
    "\n",
    "# Extract the data from the results list\n",
    "months = [r[\"_id\"] for r in results]\n",
    "total_trips = [r[\"totalTrips\"] for r in results]\n",
    "\n",
    "colors = ['orange']\n",
    "\n",
    "# Create a bar chart of the total trips per month\n",
    "plt.bar(months, total_trips, color=colors)\n",
    "plt.xlabel(\"Month\")\n",
    "plt.ylabel(\"Total Trips\")\n",
    "plt.title(\"Total Trips per Month 2019\")\n",
    "plt.show()"
   ]
  },
  {
   "cell_type": "code",
   "execution_count": 3,
   "id": "8b33b7b3",
   "metadata": {},
   "outputs": [
    {
     "data": {
      "image/png": "[encoded data removed]",
      "text/plain": [
       "<Figure size 432x288 with 1 Axes>"
      ]
     },
     "metadata": {
      "needs_background": "light"
     },
     "output_type": "display_data"
    }
   ],
   "source": [
    "#3 Comparison of ridership by month in 2018, 2019 and 2020\n",
    "\n",
    "\n",
    "import pymongo\n",
    "import matplotlib.pyplot as plt\n",
    "\n",
    "# MongoDB connection\n",
    "client = pymongo.MongoClient(\"mongodb://localhost:27017/\")\n",
    "db = client[\"ridership\"]\n",
    "col = db[\"2020\"]\n",
    "\n",
    "# Aggregation pipeline\n",
    "pipeline = [\n",
    "    {\n",
    "        \"$group\": {\n",
    "            \"_id\": {\"$month\": {\"$toDate\": \"$Date\"}},\n",
    "            \"totalTrips\": {\"$sum\": \"$Trip Count\"}\n",
    "        }\n",
    "    },\n",
    "    {\"$sort\": {\"_id\": 1}}\n",
    "]\n",
    "\n",
    "# Execute the pipeline and store the results in a list\n",
    "results = list(col.aggregate(pipeline))\n",
    "\n",
    "# Extract the data from the results list\n",
    "months = [r[\"_id\"] for r in results]\n",
    "total_trips = [r[\"totalTrips\"] for r in results]\n",
    "\n",
    "colors = ['purple']\n",
    "\n",
    "# Create a bar chart of the total trips per month\n",
    "plt.bar(months, total_trips, color=colors)\n",
    "plt.xlabel(\"Month\")\n",
    "plt.ylabel(\"Total Trips\")\n",
    "plt.title(\"Total Trips per Month 2020\")\n",
    "plt.show()"
   ]
  },
  {
   "cell_type": "code",
   "execution_count": null,
   "id": "4b3e5c44",
   "metadata": {},
   "outputs": [],
   "source": []
  }
 ],
 "metadata": {
  "kernelspec": {
   "display_name": "Python 3",
   "language": "python",
   "name": "python3"
  },
  "language_info": {
   "codemirror_mode": {
    "name": "ipython",
    "version": 3
   },
   "file_extension": ".py",
   "mimetype": "text/x-python",
   "name": "python",
   "nbconvert_exporter": "python",
   "pygments_lexer": "ipython3",
   "version": "3.8.8"
  }
 },
 "nbformat": 4,
 "nbformat_minor": 5
}
