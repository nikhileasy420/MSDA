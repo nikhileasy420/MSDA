{
 "cells": [
  {
   "cell_type": "code",
   "execution_count": 2,
   "id": "48166350",
   "metadata": {},
   "outputs": [
    {
     "data": {
      "text/html": [
       "<div>\n",
       "<style scoped>\n",
       "    .dataframe tbody tr th:only-of-type {\n",
       "        vertical-align: middle;\n",
       "    }\n",
       "\n",
       "    .dataframe tbody tr th {\n",
       "        vertical-align: top;\n",
       "    }\n",
       "\n",
       "    .dataframe thead th {\n",
       "        text-align: right;\n",
       "    }\n",
       "</style>\n",
       "<table border=\"1\" class=\"dataframe\">\n",
       "  <thead>\n",
       "    <tr style=\"text-align: right;\">\n",
       "      <th></th>\n",
       "      <th>drug_a</th>\n",
       "      <th>drug_b</th>\n",
       "      <th>side_effect_id</th>\n",
       "      <th>side_effect</th>\n",
       "    </tr>\n",
       "  </thead>\n",
       "  <tbody>\n",
       "    <tr>\n",
       "      <th>0</th>\n",
       "      <td>CID000002173</td>\n",
       "      <td>CID000003345</td>\n",
       "      <td>C0151714</td>\n",
       "      <td>hypermagnesemia</td>\n",
       "    </tr>\n",
       "    <tr>\n",
       "      <th>1</th>\n",
       "      <td>CID000002173</td>\n",
       "      <td>CID000003345</td>\n",
       "      <td>C0035344</td>\n",
       "      <td>retinopathy of prematurity</td>\n",
       "    </tr>\n",
       "    <tr>\n",
       "      <th>2</th>\n",
       "      <td>CID000002173</td>\n",
       "      <td>CID000003345</td>\n",
       "      <td>C0004144</td>\n",
       "      <td>atelectasis</td>\n",
       "    </tr>\n",
       "    <tr>\n",
       "      <th>3</th>\n",
       "      <td>CID000002173</td>\n",
       "      <td>CID000003345</td>\n",
       "      <td>C0002063</td>\n",
       "      <td>alkalosis</td>\n",
       "    </tr>\n",
       "    <tr>\n",
       "      <th>4</th>\n",
       "      <td>CID000002173</td>\n",
       "      <td>CID000003345</td>\n",
       "      <td>C0004604</td>\n",
       "      <td>Back Ache</td>\n",
       "    </tr>\n",
       "  </tbody>\n",
       "</table>\n",
       "</div>"
      ],
      "text/plain": [
       "         drug_a        drug_b side_effect_id                 side_effect\n",
       "0  CID000002173  CID000003345       C0151714             hypermagnesemia\n",
       "1  CID000002173  CID000003345       C0035344  retinopathy of prematurity\n",
       "2  CID000002173  CID000003345       C0004144                 atelectasis\n",
       "3  CID000002173  CID000003345       C0002063                   alkalosis\n",
       "4  CID000002173  CID000003345       C0004604                   Back Ache"
      ]
     },
     "execution_count": 2,
     "metadata": {},
     "output_type": "execute_result"
    }
   ],
   "source": [
    "import pandas as pd\n",
    "\n",
    "df = pd.read_csv('dr_dr_se.csv')\n",
    "df.head()"
   ]
  },
  {
   "cell_type": "code",
   "execution_count": 3,
   "id": "8d75f762",
   "metadata": {},
   "outputs": [
    {
     "name": "stdout",
     "output_type": "stream",
     "text": [
      "Number of nodes (drugs) in the graph: 645\n",
      "Number of edges (drug interactions) in the graph: 63473\n"
     ]
    }
   ],
   "source": [
    "import pandas as pd\n",
    "import networkx as nx\n",
    "\n",
    "df\n",
    "\n",
    "G = nx.Graph()\n",
    "\n",
    "# Add edges to the graph\n",
    "for index, row in df.iterrows():\n",
    "    G.add_edge(row['drug_a'], row['drug_b'], side_effect=row['side_effect'])\n",
    "\n",
    "# Get the number of nodes and edges\n",
    "num_nodes = G.number_of_nodes()\n",
    "num_edges = G.number_of_edges()\n",
    "\n",
    "# Print the number of nodes and edges\n",
    "print(f\"Number of nodes (drugs) in the graph: {num_nodes}\")\n",
    "print(f\"Number of edges (drug interactions) in the graph: {num_edges}\")"
   ]
  },
  {
   "cell_type": "code",
   "execution_count": 5,
   "id": "3b0b0925",
   "metadata": {},
   "outputs": [],
   "source": [
    "import pandas as pd\n",
    "import numpy as np\n",
    "from itertools import combinations\n",
    "\n",
    "# Load your dataset\n",
    "# Replace this with the path to your dataset\n",
    "df = pd.read_csv(\"dr_dr_se.csv\")\n",
    "\n",
    "# Process existing data\n",
    "# Creating a set of tuples for drug pairs with side effects\n",
    "pairs_with_side_effects = set(df[['drug_a', 'drug_b']].apply(tuple, axis=1))\n",
    "\n",
    "# Mark these pairs as 1 (having a side effect)\n",
    "processed_data = pd.DataFrame(list(pairs_with_side_effects), columns=['drug_a', 'drug_b'])\n",
    "processed_data['side_effect'] = 1\n",
    "\n",
    "# Generate non-side effect data\n",
    "all_drugs = set(df['drug_a']).union(set(df['drug_b']))\n",
    "drug_combinations = set(combinations(all_drugs, 2))\n",
    "\n",
    "# Filter out combinations that already have side effects\n",
    "no_side_effect_combinations = drug_combinations - pairs_with_side_effects\n",
    "\n",
    "# Convert to DataFrame and mark these as 0 (no side effect)\n",
    "no_effect_data = pd.DataFrame(list(no_side_effect_combinations), columns=['drug_a', 'drug_b'])\n",
    "no_effect_data['side_effect'] = 0\n",
    "\n",
    "# Combine the data\n",
    "final_dataset = pd.concat([processed_data, no_effect_data])\n",
    "\n",
    "# Check for duplicates\n",
    "final_dataset2 = final_dataset.drop_duplicates(subset=['drug_a', 'drug_b'])\n",
    "final_dataset2\n",
    "# Optionally, shuffle the dataset\n",
    "#final_dataset = final_dataset.sample(frac=1).reset_index(drop=True)\n",
    "\n",
    "# Save the processed dataset\n",
    "final_dataset.to_csv(\"processed_dataset.csv\", index=False)"
   ]
  },
  {
   "cell_type": "code",
   "execution_count": 6,
   "id": "498b5233",
   "metadata": {},
   "outputs": [],
   "source": [
    "import networkx as nx\n",
    "import pandas as pd\n",
    "import matplotlib.pyplot as plt\n",
    "\n",
    "# Example DataFrame (replace this with your actual DataFrame)\n",
    "# df = pd.DataFrame({'drug_a': [...], 'drug_b': [...], 'interaction': [...]})\n",
    "\n",
    "G = nx.Graph()\n",
    "for _, row in final_dataset.iterrows():\n",
    "    G.add_edge(row['drug_a'], row['drug_b'])  # Add an edge between the two drugs"
   ]
  },
  {
   "cell_type": "code",
   "execution_count": 7,
   "id": "c32f8cd7",
   "metadata": {},
   "outputs": [
    {
     "name": "stdout",
     "output_type": "stream",
     "text": [
      "Collecting node2vec\n",
      "  Downloading node2vec-0.4.6-py3-none-any.whl (7.0 kB)\n",
      "Requirement already satisfied: gensim<5.0.0,>=4.1.2 in c:\\users\\student\\anaconda3\\lib\\site-packages (from node2vec) (4.3.0)\n",
      "Requirement already satisfied: joblib<2.0.0,>=1.1.0 in c:\\users\\student\\anaconda3\\lib\\site-packages (from node2vec) (1.2.0)\n",
      "Collecting networkx<3.0,>=2.5 (from node2vec)\n",
      "  Downloading networkx-2.8.8-py3-none-any.whl (2.0 MB)\n",
      "     ---------------------------------------- 0.0/2.0 MB ? eta -:--:--\n",
      "     ---------------------------------------- 0.0/2.0 MB ? eta -:--:--\n",
      "      --------------------------------------- 0.0/2.0 MB 653.6 kB/s eta 0:00:04\n",
      "     ----- ---------------------------------- 0.3/2.0 MB 2.5 MB/s eta 0:00:01\n",
      "     -------------------------- ------------- 1.4/2.0 MB 8.5 MB/s eta 0:00:01\n",
      "     ---------------------------------------- 2.0/2.0 MB 11.7 MB/s eta 0:00:00\n",
      "Requirement already satisfied: numpy<2.0.0,>=1.19.5 in c:\\users\\student\\anaconda3\\lib\\site-packages (from node2vec) (1.24.3)\n",
      "Requirement already satisfied: tqdm<5.0.0,>=4.55.1 in c:\\users\\student\\anaconda3\\lib\\site-packages (from node2vec) (4.65.0)\n",
      "Requirement already satisfied: scipy>=1.7.0 in c:\\users\\student\\anaconda3\\lib\\site-packages (from gensim<5.0.0,>=4.1.2->node2vec) (1.11.1)\n",
      "Requirement already satisfied: smart-open>=1.8.1 in c:\\users\\student\\anaconda3\\lib\\site-packages (from gensim<5.0.0,>=4.1.2->node2vec) (5.2.1)\n",
      "Collecting FuzzyTM>=0.4.0 (from gensim<5.0.0,>=4.1.2->node2vec)\n",
      "  Downloading FuzzyTM-2.0.5-py3-none-any.whl (29 kB)\n",
      "Requirement already satisfied: colorama in c:\\users\\student\\anaconda3\\lib\\site-packages (from tqdm<5.0.0,>=4.55.1->node2vec) (0.4.6)\n",
      "Requirement already satisfied: pandas in c:\\users\\student\\anaconda3\\lib\\site-packages (from FuzzyTM>=0.4.0->gensim<5.0.0,>=4.1.2->node2vec) (2.0.3)\n",
      "Collecting pyfume (from FuzzyTM>=0.4.0->gensim<5.0.0,>=4.1.2->node2vec)\n",
      "  Downloading pyFUME-0.2.25-py3-none-any.whl (67 kB)\n",
      "     ---------------------------------------- 0.0/67.1 kB ? eta -:--:--\n",
      "     ---------------------------------------- 67.1/67.1 kB ? eta 0:00:00\n",
      "Requirement already satisfied: python-dateutil>=2.8.2 in c:\\users\\student\\anaconda3\\lib\\site-packages (from pandas->FuzzyTM>=0.4.0->gensim<5.0.0,>=4.1.2->node2vec) (2.8.2)\n",
      "Requirement already satisfied: pytz>=2020.1 in c:\\users\\student\\anaconda3\\lib\\site-packages (from pandas->FuzzyTM>=0.4.0->gensim<5.0.0,>=4.1.2->node2vec) (2023.3.post1)\n",
      "Requirement already satisfied: tzdata>=2022.1 in c:\\users\\student\\anaconda3\\lib\\site-packages (from pandas->FuzzyTM>=0.4.0->gensim<5.0.0,>=4.1.2->node2vec) (2023.3)\n",
      "Collecting simpful (from pyfume->FuzzyTM>=0.4.0->gensim<5.0.0,>=4.1.2->node2vec)\n",
      "  Obtaining dependency information for simpful from https://files.pythonhosted.org/packages/8d/93/8448d3f1aa9d2911b8cba2602aaa1af85eb31a26d28b7b737f1fa5b40c02/simpful-2.11.1-py3-none-any.whl.metadata\n",
      "  Downloading simpful-2.11.1-py3-none-any.whl.metadata (4.8 kB)\n",
      "Collecting fst-pso (from pyfume->FuzzyTM>=0.4.0->gensim<5.0.0,>=4.1.2->node2vec)\n",
      "  Downloading fst-pso-1.8.1.tar.gz (18 kB)\n",
      "  Preparing metadata (setup.py): started\n",
      "  Preparing metadata (setup.py): finished with status 'done'\n",
      "Requirement already satisfied: six>=1.5 in c:\\users\\student\\anaconda3\\lib\\site-packages (from python-dateutil>=2.8.2->pandas->FuzzyTM>=0.4.0->gensim<5.0.0,>=4.1.2->node2vec) (1.16.0)\n",
      "Collecting miniful (from fst-pso->pyfume->FuzzyTM>=0.4.0->gensim<5.0.0,>=4.1.2->node2vec)\n",
      "  Downloading miniful-0.0.6.tar.gz (2.8 kB)\n",
      "  Preparing metadata (setup.py): started\n",
      "  Preparing metadata (setup.py): finished with status 'done'\n",
      "Downloading simpful-2.11.1-py3-none-any.whl (32 kB)\n",
      "Building wheels for collected packages: fst-pso, miniful\n",
      "  Building wheel for fst-pso (setup.py): started\n",
      "  Building wheel for fst-pso (setup.py): finished with status 'done'\n",
      "  Created wheel for fst-pso: filename=fst_pso-1.8.1-py3-none-any.whl size=20448 sha256=ae3193d0929c3b2203d5b78e755888c4c32c8f746476dd83decdc5b1d80a87a5\n",
      "  Stored in directory: c:\\users\\student\\appdata\\local\\pip\\cache\\wheels\\69\\f5\\e5\\18ad53fe1ed6b2af9fad05ec052e4acbac8e92441df44bad2e\n",
      "  Building wheel for miniful (setup.py): started\n",
      "  Building wheel for miniful (setup.py): finished with status 'done'\n",
      "  Created wheel for miniful: filename=miniful-0.0.6-py3-none-any.whl size=3522 sha256=15630166479e558986aa415e5bf4df432a11321842495f45fdc3d622c126bb3f\n",
      "  Stored in directory: c:\\users\\student\\appdata\\local\\pip\\cache\\wheels\\9d\\ff\\2f\\afe4cd56f47de147407705626517d68bea0f3b74eb1fb168e6\n",
      "Successfully built fst-pso miniful\n",
      "Installing collected packages: networkx, simpful, miniful, fst-pso, pyfume, FuzzyTM, node2vec\n",
      "  Attempting uninstall: networkx\n",
      "    Found existing installation: networkx 3.1\n",
      "    Uninstalling networkx-3.1:\n",
      "      Successfully uninstalled networkx-3.1\n",
      "Successfully installed FuzzyTM-2.0.5 fst-pso-1.8.1 miniful-0.0.6 networkx-2.8.8 node2vec-0.4.6 pyfume-0.2.25 simpful-2.11.1\n",
      "Note: you may need to restart the kernel to use updated packages.\n"
     ]
    }
   ],
   "source": [
    "pip install node2vec"
   ]
  },
  {
   "cell_type": "code",
   "execution_count": 8,
   "id": "8c456311",
   "metadata": {},
   "outputs": [
    {
     "data": {
      "application/vnd.jupyter.widget-view+json": {
       "model_id": "67e5cd87976f4eda8ad04b212a3ade7b",
       "version_major": 2,
       "version_minor": 0
      },
      "text/plain": [
       "Computing transition probabilities:   0%|          | 0/645 [00:00<?, ?it/s]"
      ]
     },
     "metadata": {},
     "output_type": "display_data"
    },
    {
     "name": "stdout",
     "output_type": "stream",
     "text": [
      "The shape of the embedding vector is: (64,)\n"
     ]
    }
   ],
   "source": [
    "from node2vec import Node2Vec\n",
    "import networkx as nx\n",
    "\n",
    "# Assuming 'G' is your NetworkX graph\n",
    "node2vec = Node2Vec(G,\n",
    "                    dimensions=64,\n",
    "                    walk_length=40,\n",
    "                    num_walks=50,\n",
    "                    workers=2,\n",
    "                    p=1,\n",
    "                    q=0.5)\n",
    "\n",
    "# Train Node2Vec Model\n",
    "model = node2vec.fit(window=10,\n",
    "                     min_count=1,\n",
    "                     batch_words=4)\n",
    "\n",
    "embeddings = {node: model.wv[node] for node in G.nodes()}\n",
    "\n",
    "# Convert the embeddings dictionary to a list of tuples\n",
    "embeddings_list = list(embeddings.items())\n",
    "\n",
    "# Get the shape of the first node's embedding vector\n",
    "# This assumes that all nodes have embeddings of the same shape\n",
    "embedding_shape = embeddings_list[0][1].shape\n",
    "\n",
    "print(\"The shape of the embedding vector is:\", embedding_shape)"
   ]
  },
  {
   "cell_type": "code",
   "execution_count": 13,
   "id": "b4dc241a",
   "metadata": {},
   "outputs": [
    {
     "ename": "NameError",
     "evalue": "name 'node' is not defined",
     "output_type": "error",
     "traceback": [
      "\u001b[1;31m---------------------------------------------------------------------------\u001b[0m",
      "\u001b[1;31mNameError\u001b[0m                                 Traceback (most recent call last)",
      "Cell \u001b[1;32mIn[13], line 4\u001b[0m\n\u001b[0;32m      1\u001b[0m \u001b[38;5;28;01mimport\u001b[39;00m \u001b[38;5;21;01mnumpy\u001b[39;00m \u001b[38;5;28;01mas\u001b[39;00m \u001b[38;5;21;01mnp\u001b[39;00m\n\u001b[0;32m      3\u001b[0m \u001b[38;5;66;03m# Example of combining Node2Vec embeddings with degree centrality\u001b[39;00m\n\u001b[1;32m----> 4\u001b[0m combined_features \u001b[38;5;241m=\u001b[39m {node: np\u001b[38;5;241m.\u001b[39mappend(embeddings[node] \u001b[38;5;28;01mfor\u001b[39;00m node \u001b[38;5;129;01min\u001b[39;00m G\u001b[38;5;241m.\u001b[39mnodes())}\n",
      "\u001b[1;31mNameError\u001b[0m: name 'node' is not defined"
     ]
    }
   ],
   "source": [
    "import numpy as np\n",
    "\n",
    "# Example of combining Node2Vec embeddings with degree centrality\n",
    "combined_features = {node: np.append(embeddings[node] for node in G.nodes())}"
   ]
  },
  {
   "cell_type": "code",
   "execution_count": null,
   "id": "602a1f77",
   "metadata": {},
   "outputs": [],
   "source": [
    "# Assuming you have a DataFrame 'drug_pairs_df' with columns 'drug_a', 'drug_b', and 'has_side_effect'\n",
    "feature_list = []\n",
    "label_list = final_dataset['side_effect'].tolist()  # Target variable\n",
    "\n",
    "for _, row in final_dataset.iterrows():\n",
    "    # Concatenate the features of both drugs\n",
    "    combined_feature = np.concatenate([combined_features[row['drug_a']], combined_features[row['drug_b']]])\n",
    "    feature_list.append(combined_feature)\n",
    "\n",
    "# Convert to numpy array\n",
    "feature_matrix = np.array(feature_list)\n",
    "labels = np.array(label_list)"
   ]
  },
  {
   "cell_type": "code",
   "execution_count": null,
   "id": "de5b2866",
   "metadata": {},
   "outputs": [],
   "source": [
    "features_df = pd.DataFrame(feature_matrix)\n",
    "\n",
    "# Add the labels as a new column in the DataFrame\n",
    "features_df['label'] = labels\n",
    "\n",
    "# Display the DataFrame\n",
    "features_df\n",
    "\n",
    "n_columns = features_df.shape[1]\n",
    "features_df.columns = ['Vector_' + str(i) for i in range(1, n_columns + 1)]\n",
    "features_df"
   ]
  }
 ],
 "metadata": {
  "kernelspec": {
   "display_name": "Python 3 (ipykernel)",
   "language": "python",
   "name": "python3"
  },
  "language_info": {
   "codemirror_mode": {
    "name": "ipython",
    "version": 3
   },
   "file_extension": ".py",
   "mimetype": "text/x-python",
   "name": "python",
   "nbconvert_exporter": "python",
   "pygments_lexer": "ipython3",
   "version": "3.11.5"
  }
 },
 "nbformat": 4,
 "nbformat_minor": 5
}
